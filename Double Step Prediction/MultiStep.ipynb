{
 "cells": [
  {
   "cell_type": "code",
   "execution_count": 1,
   "id": "federal-moisture",
   "metadata": {},
   "outputs": [],
   "source": [
    "from pandas import DataFrame, read_csv, concat\n",
    "from keras.models import Sequential\n",
    "from keras.layers import Dense, Dropout, LSTM, Bidirectional, GRU,ConvLSTM2D, Flatten\n",
    "from matplotlib import pyplot as plt\n",
    "from numpy import concatenate, reshape, array, hstack\n",
    "from sklearn.metrics import mean_squared_error, mean_absolute_error\n",
    "from math import sqrt\n",
    "from sklearn.preprocessing import MinMaxScaler\n",
    "from sys import argv\n",
    "import csv\n",
    "import datetime\n",
    "import time\n",
    "import pickle\n",
    "from keras.models import model_from_json"
   ]
  },
  {
   "cell_type": "code",
   "execution_count": 2,
   "id": "transsexual-basement",
   "metadata": {},
   "outputs": [],
   "source": [
    "dataset = read_csv('final_datasets/BTC.csv', parse_dates=['time']) \n",
    "savedDataset = dataset\n",
    "\n",
    "startIndex = 3  #start from 3rd column\n",
    "nrows = dataset.shape[0]\n",
    "values = dataset.iloc[:,startIndex:].values #Getting values - Total Sentiment and BTC Values\n",
    "valuesCrypto = dataset.iloc[:,-1:].values #Getting values -  C Values\n",
    "# For predicting with just Cryptocurrency values, we have just 1 input variable. \n",
    "# Incorporating sentiment values will make input variables=2\n",
    "\n",
    "# Comment the below line if there are multiple features / input variable.\n",
    "# values = values.reshape(-1,1) #Only do this if you have 1 input variable\n",
    "num =dataset.loc[dataset['time'] == '2020-12-01'].index[0]\n"
   ]
  },
  {
   "cell_type": "code",
   "execution_count": 3,
   "id": "accepted-culture",
   "metadata": {},
   "outputs": [],
   "source": [
    "# split a multivariate sequence into samples\n",
    "def split_sequences(sequences, n_steps_in, n_steps_out):\n",
    "#     print(sequences)\n",
    "    X, y = list(), list()\n",
    "    for i in range(len(sequences)):\n",
    "        # find the end of this pattern        \n",
    "        end_ix = i + n_steps_in\n",
    "#         print(i, end_ix)\n",
    "        out_end_ix = end_ix + n_steps_out-1\n",
    "        # check if we are beyond the dataset\n",
    "        if out_end_ix > len(sequences):\n",
    "            break\n",
    "        # gather input and output parts of the pattern\n",
    "        seq_x, seq_y = sequences[i:end_ix, :-1], sequences[end_ix-1:out_end_ix, -1]\n",
    "#         print(seq_x)\n",
    "        X.append(seq_x)        \n",
    "        y.append(seq_y)\n",
    "    return array(X), array(y)"
   ]
  },
  {
   "cell_type": "code",
   "execution_count": 4,
   "id": "welsh-muslim",
   "metadata": {},
   "outputs": [],
   "source": [
    "def createData(sample, label):\n",
    "    # First Column \n",
    "    in_seq1 = array(sample[:, 0])\n",
    "    # Second Column\n",
    "    in_seq2 = array(sample[:, 1])\n",
    "    # Third Column \n",
    "    in_seq3 = array(sample[:, 2])\n",
    "    # Label \n",
    "    out_seq = array(label[:])\n",
    "\n",
    "    # convert to [rows, columns] structure\n",
    "    in_seq1 = in_seq1.reshape((len(in_seq1), 1))\n",
    "    in_seq2 = in_seq2.reshape((len(in_seq2), 1))\n",
    "    in_seq3 = in_seq3.reshape((len(in_seq3), 1))\n",
    "    out_seq = out_seq.reshape((len(out_seq), 1))\n",
    "\n",
    "    # horizontally stack columns\n",
    "    dataset = hstack((in_seq1, in_seq2, in_seq3, out_seq))\n",
    "    return dataset"
   ]
  },
  {
   "cell_type": "code",
   "execution_count": 5,
   "id": "difficult-nerve",
   "metadata": {},
   "outputs": [],
   "source": [
    "def change_shape(sample):\n",
    "    # flatten input    \n",
    "    sample = sample.reshape((sample.shape[0], sample.shape[1] * sample.shape[2]))\n",
    "\n",
    "    # For LSTM Shape\n",
    "    sample = sample.reshape((sample.shape[0], 1, sample.shape[1]))\n",
    "    return sample\n",
    "    \n",
    "    "
   ]
  },
  {
   "cell_type": "code",
   "execution_count": 6,
   "id": "interracial-maker",
   "metadata": {},
   "outputs": [],
   "source": [
    "num2= dataset.iloc[[-1]].index[0]\n",
    "percent=num/num2\n",
    "percent\n",
    "\n",
    "# Scaling\n",
    "scaler = MinMaxScaler(feature_range = (0,1))\n",
    "scaler = scaler.fit(values)\n",
    "scaled = scaler.fit_transform(values)\n",
    "\n",
    "#Splitting data into train and test sets\n",
    "n_train_days = int(percent*nrows) #90% data is train, 10% test\n",
    "train = scaled[:n_train_days, :]\n",
    "# train = train.values\n",
    "test = scaled[n_train_days:nrows, :]\n",
    "# test = test.values\n",
    "# valuesCrypto = reframed.iloc[:,-1:].values #Getting values -  C Values"
   ]
  },
  {
   "cell_type": "code",
   "execution_count": 7,
   "id": "refined-approval",
   "metadata": {},
   "outputs": [],
   "source": [
    "#Assigning inputs and output datasets\n",
    "train_X, train_y = train[:-1, :], train[1:, -1]\n",
    "test_X, test_y = test[:-1, :], test[1:, -1]"
   ]
  },
  {
   "cell_type": "code",
   "execution_count": 8,
   "id": "centered-laugh",
   "metadata": {},
   "outputs": [],
   "source": [
    "# #Reshaping input to be 3 dimensions (samples, timesteps, features)\n",
    "# train_X = train_X.reshape((train_X.shape[0], 1, train_X.shape[1]))\n",
    "# test_X = test_X.reshape((test_X.shape[0], 1, test_X.shape[1]))\n",
    "\n",
    "trainingDataset = createData(train_X, train_y)\n",
    "testingDataset = createData(test_X, test_y)"
   ]
  },
  {
   "cell_type": "code",
   "execution_count": 9,
   "id": "endless-nursery",
   "metadata": {},
   "outputs": [],
   "source": [
    "# choose a number of time steps\n",
    "n_steps_in, n_steps_out = 1, 2"
   ]
  },
  {
   "cell_type": "code",
   "execution_count": 10,
   "id": "clean-memory",
   "metadata": {},
   "outputs": [],
   "source": [
    "# convert training data into input/output\n",
    "trainX, trainy = split_sequences(trainingDataset, n_steps_in, n_steps_out)\n",
    "n_input = trainX.shape[1] * trainX.shape[2]\n",
    "trainX= change_shape(trainX)"
   ]
  },
  {
   "cell_type": "code",
   "execution_count": 11,
   "id": "canadian-perception",
   "metadata": {},
   "outputs": [],
   "source": [
    "# convert testing data into input/output\n",
    "testX, testy = split_sequences(testingDataset, n_steps_in, n_steps_out)\n",
    "testX= change_shape(testX)"
   ]
  },
  {
   "cell_type": "code",
   "execution_count": 49,
   "id": "utility-worcester",
   "metadata": {},
   "outputs": [
    {
     "name": "stdout",
     "output_type": "stream",
     "text": [
      "Epoch 1/100\n",
      "88/88 - 1s - loss: 0.0022 - val_loss: 0.3013\n",
      "Epoch 2/100\n",
      "88/88 - 0s - loss: 0.0033 - val_loss: 0.3078\n",
      "Epoch 3/100\n",
      "88/88 - 0s - loss: 0.0028 - val_loss: 0.2918\n",
      "Epoch 4/100\n",
      "88/88 - 0s - loss: 0.0026 - val_loss: 0.2658\n",
      "Epoch 5/100\n",
      "88/88 - 0s - loss: 0.0024 - val_loss: 0.2263\n",
      "Epoch 6/100\n",
      "88/88 - 0s - loss: 0.0022 - val_loss: 0.1698\n",
      "Epoch 7/100\n",
      "88/88 - 0s - loss: 0.0018 - val_loss: 0.0959\n",
      "Epoch 8/100\n",
      "88/88 - 0s - loss: 0.0014 - val_loss: 0.0248\n",
      "Epoch 9/100\n",
      "88/88 - 0s - loss: 8.5366e-04 - val_loss: 0.0045\n",
      "Epoch 10/100\n",
      "88/88 - 0s - loss: 5.4331e-04 - val_loss: 0.0218\n",
      "Epoch 11/100\n",
      "88/88 - 0s - loss: 3.7515e-04 - val_loss: 0.0279\n",
      "Epoch 12/100\n",
      "88/88 - 0s - loss: 3.2826e-04 - val_loss: 0.0316\n",
      "Epoch 13/100\n",
      "88/88 - 0s - loss: 2.9848e-04 - val_loss: 0.0362\n",
      "Epoch 14/100\n",
      "88/88 - 0s - loss: 2.6219e-04 - val_loss: 0.0392\n",
      "Epoch 15/100\n",
      "88/88 - 0s - loss: 2.7086e-04 - val_loss: 0.0362\n",
      "Epoch 16/100\n",
      "88/88 - 0s - loss: 2.6004e-04 - val_loss: 0.0323\n",
      "Epoch 17/100\n",
      "88/88 - 0s - loss: 2.5843e-04 - val_loss: 0.0384\n",
      "Epoch 18/100\n",
      "88/88 - 0s - loss: 2.5440e-04 - val_loss: 0.0289\n",
      "Epoch 19/100\n",
      "88/88 - 0s - loss: 2.4199e-04 - val_loss: 0.0334\n",
      "Epoch 20/100\n",
      "88/88 - 0s - loss: 2.4769e-04 - val_loss: 0.0344\n",
      "Epoch 21/100\n",
      "88/88 - 0s - loss: 2.3741e-04 - val_loss: 0.0268\n",
      "Epoch 22/100\n",
      "88/88 - 0s - loss: 2.4889e-04 - val_loss: 0.0249\n",
      "Epoch 23/100\n",
      "88/88 - 0s - loss: 2.4713e-04 - val_loss: 0.0317\n",
      "Epoch 24/100\n",
      "88/88 - 0s - loss: 2.4320e-04 - val_loss: 0.0329\n",
      "Epoch 25/100\n",
      "88/88 - 0s - loss: 2.4294e-04 - val_loss: 0.0192\n",
      "Epoch 26/100\n",
      "88/88 - 0s - loss: 2.3854e-04 - val_loss: 0.0280\n",
      "Epoch 27/100\n",
      "88/88 - 0s - loss: 2.3469e-04 - val_loss: 0.0235\n",
      "Epoch 28/100\n",
      "88/88 - 0s - loss: 2.3740e-04 - val_loss: 0.0190\n",
      "Epoch 29/100\n",
      "88/88 - 0s - loss: 2.3251e-04 - val_loss: 0.0250\n",
      "Epoch 30/100\n",
      "88/88 - 0s - loss: 2.2698e-04 - val_loss: 0.0266\n",
      "Epoch 31/100\n",
      "88/88 - 0s - loss: 2.3427e-04 - val_loss: 0.0203\n",
      "Epoch 32/100\n",
      "88/88 - 0s - loss: 2.2941e-04 - val_loss: 0.0312\n",
      "Epoch 33/100\n",
      "88/88 - 0s - loss: 2.2761e-04 - val_loss: 0.0195\n",
      "Epoch 34/100\n",
      "88/88 - 0s - loss: 2.2581e-04 - val_loss: 0.0248\n",
      "Epoch 35/100\n",
      "88/88 - 0s - loss: 2.2793e-04 - val_loss: 0.0211\n",
      "Epoch 36/100\n",
      "88/88 - 0s - loss: 2.3090e-04 - val_loss: 0.0223\n",
      "Epoch 37/100\n",
      "88/88 - 0s - loss: 2.2646e-04 - val_loss: 0.0235\n",
      "Epoch 38/100\n",
      "88/88 - 0s - loss: 2.3618e-04 - val_loss: 0.0142\n",
      "Epoch 39/100\n",
      "88/88 - 0s - loss: 2.3114e-04 - val_loss: 0.0104\n",
      "Epoch 40/100\n",
      "88/88 - 0s - loss: 2.2690e-04 - val_loss: 0.0180\n",
      "Epoch 41/100\n",
      "88/88 - 0s - loss: 2.5607e-04 - val_loss: 0.0135\n",
      "Epoch 42/100\n",
      "88/88 - 0s - loss: 2.3766e-04 - val_loss: 0.0225\n",
      "Epoch 43/100\n",
      "88/88 - 0s - loss: 2.4146e-04 - val_loss: 0.0164\n",
      "Epoch 44/100\n",
      "88/88 - 0s - loss: 2.4543e-04 - val_loss: 0.0169\n",
      "Epoch 45/100\n",
      "88/88 - 0s - loss: 2.3126e-04 - val_loss: 0.0172\n",
      "Epoch 46/100\n",
      "88/88 - 0s - loss: 2.3303e-04 - val_loss: 0.0200\n",
      "Epoch 47/100\n",
      "88/88 - 0s - loss: 2.4072e-04 - val_loss: 0.0125\n",
      "Epoch 48/100\n",
      "88/88 - 0s - loss: 2.3941e-04 - val_loss: 0.0175\n",
      "Epoch 49/100\n",
      "88/88 - 0s - loss: 2.4064e-04 - val_loss: 0.0216\n",
      "Epoch 50/100\n",
      "88/88 - 0s - loss: 2.4311e-04 - val_loss: 0.0120\n",
      "Epoch 51/100\n",
      "88/88 - 0s - loss: 2.4510e-04 - val_loss: 0.0296\n",
      "Epoch 52/100\n",
      "88/88 - 0s - loss: 2.2618e-04 - val_loss: 0.0141\n",
      "Epoch 53/100\n",
      "88/88 - 0s - loss: 2.4407e-04 - val_loss: 0.0077\n",
      "Epoch 54/100\n",
      "88/88 - 0s - loss: 2.7172e-04 - val_loss: 0.0147\n",
      "Epoch 55/100\n",
      "88/88 - 0s - loss: 2.7292e-04 - val_loss: 0.0229\n",
      "Epoch 56/100\n",
      "88/88 - 0s - loss: 3.4009e-04 - val_loss: 0.0014\n",
      "Epoch 57/100\n",
      "88/88 - 0s - loss: 3.2376e-04 - val_loss: 0.0212\n",
      "Epoch 58/100\n",
      "88/88 - 0s - loss: 2.4992e-04 - val_loss: 0.0147\n",
      "Epoch 59/100\n",
      "88/88 - 0s - loss: 2.3344e-04 - val_loss: 0.0136\n",
      "Epoch 60/100\n",
      "88/88 - 0s - loss: 2.3721e-04 - val_loss: 0.0153\n",
      "Epoch 61/100\n",
      "88/88 - 0s - loss: 2.3013e-04 - val_loss: 0.0140\n",
      "Epoch 62/100\n",
      "88/88 - 0s - loss: 2.3060e-04 - val_loss: 0.0195\n",
      "Epoch 63/100\n",
      "88/88 - 0s - loss: 2.2437e-04 - val_loss: 0.0164\n",
      "Epoch 64/100\n",
      "88/88 - 0s - loss: 2.3034e-04 - val_loss: 0.0200\n",
      "Epoch 65/100\n",
      "88/88 - 0s - loss: 2.2960e-04 - val_loss: 0.0170\n",
      "Epoch 66/100\n",
      "88/88 - 0s - loss: 2.4366e-04 - val_loss: 0.0116\n",
      "Epoch 67/100\n",
      "88/88 - 0s - loss: 2.4304e-04 - val_loss: 0.0159\n",
      "Epoch 68/100\n",
      "88/88 - 0s - loss: 2.6755e-04 - val_loss: 0.0047\n",
      "Epoch 69/100\n",
      "88/88 - 0s - loss: 2.7667e-04 - val_loss: 0.0159\n",
      "Epoch 70/100\n",
      "88/88 - 0s - loss: 2.4294e-04 - val_loss: 0.0108\n",
      "Epoch 71/100\n",
      "88/88 - 0s - loss: 2.3803e-04 - val_loss: 0.0116\n",
      "Epoch 72/100\n",
      "88/88 - 0s - loss: 2.3969e-04 - val_loss: 0.0104\n",
      "Epoch 73/100\n",
      "88/88 - 0s - loss: 2.3955e-04 - val_loss: 0.0106\n",
      "Epoch 74/100\n",
      "88/88 - 0s - loss: 2.3466e-04 - val_loss: 0.0111\n",
      "Epoch 75/100\n",
      "88/88 - 0s - loss: 2.6340e-04 - val_loss: 0.0020\n",
      "Epoch 76/100\n",
      "88/88 - 0s - loss: 2.9248e-04 - val_loss: 0.0154\n",
      "Epoch 77/100\n",
      "88/88 - 0s - loss: 2.6550e-04 - val_loss: 0.0129\n",
      "Epoch 78/100\n",
      "88/88 - 0s - loss: 2.3747e-04 - val_loss: 0.0192\n",
      "Epoch 79/100\n",
      "88/88 - 0s - loss: 2.2733e-04 - val_loss: 0.0122\n",
      "Epoch 80/100\n",
      "88/88 - 0s - loss: 2.3644e-04 - val_loss: 0.0172\n",
      "Epoch 81/100\n",
      "88/88 - 0s - loss: 2.3943e-04 - val_loss: 0.0070\n",
      "Epoch 82/100\n",
      "88/88 - 0s - loss: 2.3948e-04 - val_loss: 0.0209\n",
      "Epoch 83/100\n",
      "88/88 - 0s - loss: 2.3987e-04 - val_loss: 0.0214\n",
      "Epoch 84/100\n",
      "88/88 - 0s - loss: 2.2257e-04 - val_loss: 0.0146\n",
      "Epoch 85/100\n",
      "88/88 - 0s - loss: 2.4558e-04 - val_loss: 0.0273\n",
      "Epoch 86/100\n",
      "88/88 - 0s - loss: 2.4136e-04 - val_loss: 0.0185\n",
      "Epoch 87/100\n",
      "88/88 - 0s - loss: 2.4136e-04 - val_loss: 0.0240\n",
      "Epoch 88/100\n",
      "88/88 - 0s - loss: 2.4215e-04 - val_loss: 0.0103\n",
      "Epoch 89/100\n",
      "88/88 - 0s - loss: 2.3562e-04 - val_loss: 0.0081\n",
      "Epoch 90/100\n",
      "88/88 - 0s - loss: 2.4497e-04 - val_loss: 0.0083\n",
      "Epoch 91/100\n",
      "88/88 - 0s - loss: 2.4508e-04 - val_loss: 0.0132\n",
      "Epoch 92/100\n",
      "88/88 - 0s - loss: 2.4693e-04 - val_loss: 0.0053\n",
      "Epoch 93/100\n",
      "88/88 - 0s - loss: 2.4741e-04 - val_loss: 0.0177\n",
      "Epoch 94/100\n",
      "88/88 - 0s - loss: 3.0175e-04 - val_loss: 0.0013\n",
      "Epoch 95/100\n",
      "88/88 - 0s - loss: 3.2193e-04 - val_loss: 0.0173\n",
      "Epoch 96/100\n",
      "88/88 - 0s - loss: 2.6869e-04 - val_loss: 0.0038\n",
      "Epoch 97/100\n",
      "88/88 - 0s - loss: 2.9713e-04 - val_loss: 0.0214\n",
      "Epoch 98/100\n",
      "88/88 - 0s - loss: 2.2751e-04 - val_loss: 0.0115\n",
      "Epoch 99/100\n",
      "88/88 - 0s - loss: 2.4769e-04 - val_loss: 0.0136\n",
      "Epoch 100/100\n",
      "88/88 - 0s - loss: 2.2988e-04 - val_loss: 0.0065\n"
     ]
    },
    {
     "data": {
      "text/plain": [
       "<tensorflow.python.keras.callbacks.History at 0x24719062910>"
      ]
     },
     "execution_count": 49,
     "metadata": {},
     "output_type": "execute_result"
    }
   ],
   "source": [
    "\n",
    "# model = Sequential()\n",
    "# model.add(Bidirectional(GRU(50, activation='relu', input_dim=n_input)))\n",
    "# model.add(LSTM(50,activation ='tanh'))\n",
    "# model.add(Dropout(0.3))\n",
    "# model.add(Dense(n_steps_out))\n",
    "# model.compile(optimizer='adam', loss='mse',metrics=['acc'])\n",
    "\n",
    "# # define model\n",
    "model = Sequential()\n",
    "model.add(LSTM(50, activation='relu', return_sequences=True, input_shape=(trainX.shape[1], trainX.shape[2])))\n",
    "model.add(LSTM(50, activation='relu'))\n",
    "model.add(Dropout(0.3))\n",
    "model.add(Dense(n_steps_out, activation='relu'))\n",
    "model.compile(optimizer='adam', loss='mse')\n",
    "# fit model\n",
    "# model.fit(X, y, epochs=100, verbose=2)\n",
    "model.fit(trainX, trainy, epochs = 100, batch_size=64, validation_data=(testX, testy), verbose=2, shuffle=False) #Best so far: 100 neurons, epochs = 400, batch_size = 53\n",
    "\n",
    "# demonstrate prediction"
   ]
  },
  {
   "cell_type": "code",
   "execution_count": 50,
   "id": "tracked-saudi",
   "metadata": {},
   "outputs": [],
   "source": [
    "model_prediction = model.predict(testX)"
   ]
  },
  {
   "cell_type": "code",
   "execution_count": 51,
   "id": "found-characterization",
   "metadata": {},
   "outputs": [
    {
     "data": {
      "text/plain": [
       "array([[0.25753573, 0.2579391 ],\n",
       "       [0.25556037, 0.255922  ],\n",
       "       [0.25367782, 0.25408027],\n",
       "       ...,\n",
       "       [0.5476555 , 0.55298835],\n",
       "       [0.5330981 , 0.5383107 ],\n",
       "       [0.5430833 , 0.5482484 ]], dtype=float32)"
      ]
     },
     "execution_count": 51,
     "metadata": {},
     "output_type": "execute_result"
    }
   ],
   "source": [
    "model_prediction"
   ]
  },
  {
   "cell_type": "code",
   "execution_count": 52,
   "id": "unable-details",
   "metadata": {},
   "outputs": [],
   "source": [
    "# Inverse Scale\n",
    "scalerCrypto = MinMaxScaler(feature_range = (0,1))\n",
    "scalerCrypto = scaler.fit(valuesCrypto)\n",
    "scaledCrypto = scaler.fit_transform(valuesCrypto)\n",
    "\n",
    "\n",
    "model_prediction_unscale = scalerCrypto.inverse_transform(model_prediction.squeeze())\n",
    "# predictedValues = reshape(model_prediction_unscale, model_prediction_unscale.shape[0]*model_prediction_unscale.shape[1])\n",
    "\n",
    "actualValues = valuesCrypto[n_train_days+n_steps_in:] #test_y+input_sequence:\n",
    "\n",
    "\n",
    "actualValues = reshape(actualValues, actualValues.shape[0])\n"
   ]
  },
  {
   "cell_type": "code",
   "execution_count": 53,
   "id": "faced-national",
   "metadata": {},
   "outputs": [
    {
     "data": {
      "text/plain": [
       "array([[19067.217, 19091.822],\n",
       "       [18946.725, 18968.783],\n",
       "       [18831.893, 18856.441],\n",
       "       ...,\n",
       "       [36763.926, 37089.22 ],\n",
       "       [35875.953, 36193.914],\n",
       "       [36485.03 , 36800.094]], dtype=float32)"
      ]
     },
     "execution_count": 53,
     "metadata": {},
     "output_type": "execute_result"
    }
   ],
   "source": [
    "model_prediction_unscale"
   ]
  },
  {
   "cell_type": "code",
   "execution_count": 54,
   "id": "lightweight-quality",
   "metadata": {},
   "outputs": [
    {
     "name": "stdout",
     "output_type": "stream",
     "text": [
      "Head:                   time  Predicted (t+1)  Predicted (t+2)  Actual (t+1)  \\\n",
      "0 2020-12-01 03:00:00     19067.216797     19091.822266  19494.603333   \n",
      "1 2020-12-01 06:00:00     18946.724609     18968.783203  19454.703333   \n",
      "2 2020-12-01 09:00:00     18831.892578     18856.441406  19604.606667   \n",
      "3 2020-12-01 12:00:00     19113.441406     19135.316406  18938.323333   \n",
      "4 2020-12-01 15:00:00     18464.712891     18485.488281  19216.383333   \n",
      "\n",
      "   Actual (t+2)  \n",
      "0  19454.703333  \n",
      "1  19604.606667  \n",
      "2  18938.323333  \n",
      "3  19216.383333  \n",
      "4  18965.876667  \n",
      "Tail:                      time  Predicted (t+1)  Predicted (t+2)  Actual (t+1)  \\\n",
      "1457 2021-06-01 06:00:00     36481.417969     36805.089844  37018.516667   \n",
      "1458 2021-06-01 09:00:00     36763.925781     37089.218750  36304.003333   \n",
      "1459 2021-06-01 12:00:00     35875.953125     36193.914062  36592.830000   \n",
      "1460 2021-06-01 15:00:00     36485.031250     36800.093750  36265.610000   \n",
      "1461 2021-06-01 18:00:00              NaN              NaN  36158.190000   \n",
      "\n",
      "      Actual (t+2)  \n",
      "1457  36304.003333  \n",
      "1458  36592.830000  \n",
      "1459  36265.610000  \n",
      "1460  36158.190000  \n",
      "1461           NaN  \n"
     ]
    }
   ],
   "source": [
    "model_prediction_unscale\n",
    "model_prediction_unscaleDF = DataFrame(model_prediction_unscale, columns = ['Predicted (t+1)','Predicted (t+2)'])\n",
    "actualDF1 = DataFrame(actualValues, columns=['Actual (t+1)'])\n",
    "actualDF2 = DataFrame(actualValues[1:], columns=['Actual (t+2)'])\n",
    "timestamp = DataFrame(savedDataset['time'][n_train_days+1:], columns= ['time'])\n",
    "timestamp.reset_index(drop=True, inplace=True)\n",
    "results=concat([timestamp,model_prediction_unscaleDF, actualDF1, actualDF2], axis=1)\n",
    "print(\"Head: \",results.head())\n",
    "print(\"Tail: \",results.tail())\n",
    "results.dropna(inplace=True)\n",
    "results.to_csv('Double BTC.csv', index= False)\n"
   ]
  },
  {
   "cell_type": "code",
   "execution_count": 55,
   "id": "unlimited-oliver",
   "metadata": {},
   "outputs": [
    {
     "name": "stdout",
     "output_type": "stream",
     "text": [
      "Analyzer 2 \n",
      "------------\n",
      "correct_long 400\n",
      "incorrect_long 357\n",
      "correct_long_percentage 52.84015852047557\n",
      "correct_short 326\n",
      "incorrect_short 375\n",
      "correct_short_percentage 46.50499286733238\n",
      "correct_total_percentage 49.794238683127574\n",
      "profit_tracker -1802.5044913248882\n"
     ]
    }
   ],
   "source": [
    "with open('Double BTC.csv', newline='') as read_file:\n",
    "\n",
    "    results = csv.reader(read_file, delimiter=',', quotechar='|')\n",
    "    next(results)\n",
    "\n",
    "    time = []\n",
    "    actual1 = []\n",
    "    predicted1 = []\n",
    "    actual2 = []\n",
    "    predicted2 = []\n",
    "    n_percent= 2\n",
    "\n",
    "    # Pull data from CSV and store in arrays.\n",
    "    for row in results:\n",
    "        # print(row)\n",
    "        time.append(row[0])\n",
    "        actual1.append(float(row[4]))\n",
    "        predicted1.append(float(row[2]))\n",
    "\n",
    "    actual_delta= []\n",
    "    predicted_delta = []\n",
    "    correct_long = 0\n",
    "    incorrect_long = 0\n",
    "    correct_short = 0\n",
    "    incorrect_short = 0\n",
    "\n",
    "    profit = []\n",
    "    profit_agg = 0\n",
    "\n",
    "    # Process predictions, print analytics.\n",
    "    for i in range(2, len(actual1) - 1):\n",
    "        a_delta1 = (actual1[i + 1] - actual1[i]) / actual1[i + 1]\n",
    "        p_delta1 = (predicted1[i + 1] - predicted1[i]) / predicted1[i + 1]\n",
    "#         print(\"time_start\", time[i])\n",
    "#         print(\"time_ended\", time[i+1])\n",
    "#         print(\"actual_price\", actual[i], \"->\", actual[i+1])\n",
    "#         print(\"actual_delta\", a_delta * 100)\n",
    "#         print(\"predicted_price\", predicted[i], \"->\", predicted[i + 1])\n",
    "#         print(\"predicted_delta\", p_delta * 100)\n",
    "#         print(\"difference\", abs(a_delta - p_delta) * 100)\n",
    "\n",
    "        if p_delta1 > 0 and a_delta1 > 0:# and abs(p_delta1)*100>n_percent:\n",
    "            correct_long += 1\n",
    "            profits = 10000 * abs(a_delta1)\n",
    "            profit.append(profits)\n",
    "            profit_agg += profits\n",
    "            #print('gain/loss', profits)\n",
    "\n",
    "        if p_delta1 > 0 > a_delta1:# and abs(p_delta1)*100>n_percent:\n",
    "            incorrect_long += 1\n",
    "            \n",
    "            profits = -10000 * abs(a_delta1)\n",
    "            profit.append(profits)\n",
    "            profit_agg += profits\n",
    "            #print('gain/loss', profits)\n",
    "\n",
    "        # To ignore the \"short\" predictions, comment out the following 2 if-blocks.\n",
    "\n",
    "        if p_delta1 < 0 and a_delta1 < 0:# and abs(p_delta1)*100>n_percent:\n",
    "            correct_short += 1\n",
    "            profits = 10000 * abs(a_delta1)\n",
    "            profit.append(profits)\n",
    "            profit_agg += profits\n",
    "            #print('gain/loss', profits)\n",
    "\n",
    "        if p_delta1 < 0 < a_delta1:# and abs(p_delta1)*100>n_percent:\n",
    "            incorrect_short += 1\n",
    "            profits = -10000 * abs(a_delta1)\n",
    "            profit.append(profits)\n",
    "            profit_agg += profits\n",
    "            #print('gain/loss', profits)\n",
    "\n",
    "#         print()\n",
    "    long_p=correct_long/(correct_long+incorrect_long)*100\n",
    "    short_p=correct_short/(correct_short+incorrect_short)*100\n",
    "    total_correct= (correct_long+correct_short)/(correct_long+incorrect_long+correct_short+incorrect_short)*100\n",
    "    print('Analyzer 2 ')\n",
    "    print(\"------------\")\n",
    "    print('correct_long', correct_long)\n",
    "    print('incorrect_long', incorrect_long)\n",
    "    print('correct_long_percentage', long_p)\n",
    "    print('correct_short', correct_short)\n",
    "    print('incorrect_short', incorrect_short)\n",
    "    print('correct_short_percentage', short_p)\n",
    "    print('correct_total_percentage', total_correct)\n",
    "    print('profit_tracker', profit_agg)\n",
    "    \n"
   ]
  },
  {
   "cell_type": "code",
   "execution_count": 56,
   "id": "educational-pickup",
   "metadata": {},
   "outputs": [
    {
     "data": {
      "text/html": [
       "<div>\n",
       "<style scoped>\n",
       "    .dataframe tbody tr th:only-of-type {\n",
       "        vertical-align: middle;\n",
       "    }\n",
       "\n",
       "    .dataframe tbody tr th {\n",
       "        vertical-align: top;\n",
       "    }\n",
       "\n",
       "    .dataframe thead th {\n",
       "        text-align: right;\n",
       "    }\n",
       "</style>\n",
       "<table border=\"1\" class=\"dataframe\">\n",
       "  <thead>\n",
       "    <tr style=\"text-align: right;\">\n",
       "      <th></th>\n",
       "      <th>time</th>\n",
       "      <th>Predicted (t+1)</th>\n",
       "      <th>Predicted (t+2)</th>\n",
       "      <th>Actual (t+1)</th>\n",
       "      <th>Actual (t+2)</th>\n",
       "    </tr>\n",
       "  </thead>\n",
       "  <tbody>\n",
       "    <tr>\n",
       "      <th>0</th>\n",
       "      <td>2020-12-01 03:00:00</td>\n",
       "      <td>19067.217</td>\n",
       "      <td>19091.822</td>\n",
       "      <td>19494.603333</td>\n",
       "      <td>19454.703333</td>\n",
       "    </tr>\n",
       "    <tr>\n",
       "      <th>1</th>\n",
       "      <td>2020-12-01 06:00:00</td>\n",
       "      <td>18946.725</td>\n",
       "      <td>18968.783</td>\n",
       "      <td>19454.703333</td>\n",
       "      <td>19604.606667</td>\n",
       "    </tr>\n",
       "    <tr>\n",
       "      <th>2</th>\n",
       "      <td>2020-12-01 09:00:00</td>\n",
       "      <td>18831.893</td>\n",
       "      <td>18856.441</td>\n",
       "      <td>19604.606667</td>\n",
       "      <td>18938.323333</td>\n",
       "    </tr>\n",
       "    <tr>\n",
       "      <th>3</th>\n",
       "      <td>2020-12-01 12:00:00</td>\n",
       "      <td>19113.441</td>\n",
       "      <td>19135.316</td>\n",
       "      <td>18938.323333</td>\n",
       "      <td>19216.383333</td>\n",
       "    </tr>\n",
       "    <tr>\n",
       "      <th>4</th>\n",
       "      <td>2020-12-01 15:00:00</td>\n",
       "      <td>18464.713</td>\n",
       "      <td>18485.488</td>\n",
       "      <td>19216.383333</td>\n",
       "      <td>18965.876667</td>\n",
       "    </tr>\n",
       "    <tr>\n",
       "      <th>...</th>\n",
       "      <td>...</td>\n",
       "      <td>...</td>\n",
       "      <td>...</td>\n",
       "      <td>...</td>\n",
       "      <td>...</td>\n",
       "    </tr>\n",
       "    <tr>\n",
       "      <th>1456</th>\n",
       "      <td>2021-06-01 03:00:00</td>\n",
       "      <td>37314.086</td>\n",
       "      <td>37641.883</td>\n",
       "      <td>36774.986667</td>\n",
       "      <td>37018.516667</td>\n",
       "    </tr>\n",
       "    <tr>\n",
       "      <th>1457</th>\n",
       "      <td>2021-06-01 06:00:00</td>\n",
       "      <td>36481.418</td>\n",
       "      <td>36805.090</td>\n",
       "      <td>37018.516667</td>\n",
       "      <td>36304.003333</td>\n",
       "    </tr>\n",
       "    <tr>\n",
       "      <th>1458</th>\n",
       "      <td>2021-06-01 09:00:00</td>\n",
       "      <td>36763.926</td>\n",
       "      <td>37089.220</td>\n",
       "      <td>36304.003333</td>\n",
       "      <td>36592.830000</td>\n",
       "    </tr>\n",
       "    <tr>\n",
       "      <th>1459</th>\n",
       "      <td>2021-06-01 12:00:00</td>\n",
       "      <td>35875.953</td>\n",
       "      <td>36193.914</td>\n",
       "      <td>36592.830000</td>\n",
       "      <td>36265.610000</td>\n",
       "    </tr>\n",
       "    <tr>\n",
       "      <th>1460</th>\n",
       "      <td>2021-06-01 15:00:00</td>\n",
       "      <td>36485.030</td>\n",
       "      <td>36800.094</td>\n",
       "      <td>36265.610000</td>\n",
       "      <td>36158.190000</td>\n",
       "    </tr>\n",
       "  </tbody>\n",
       "</table>\n",
       "<p>1461 rows × 5 columns</p>\n",
       "</div>"
      ],
      "text/plain": [
       "                    time  Predicted (t+1)  Predicted (t+2)  Actual (t+1)  \\\n",
       "0    2020-12-01 03:00:00        19067.217        19091.822  19494.603333   \n",
       "1    2020-12-01 06:00:00        18946.725        18968.783  19454.703333   \n",
       "2    2020-12-01 09:00:00        18831.893        18856.441  19604.606667   \n",
       "3    2020-12-01 12:00:00        19113.441        19135.316  18938.323333   \n",
       "4    2020-12-01 15:00:00        18464.713        18485.488  19216.383333   \n",
       "...                  ...              ...              ...           ...   \n",
       "1456 2021-06-01 03:00:00        37314.086        37641.883  36774.986667   \n",
       "1457 2021-06-01 06:00:00        36481.418        36805.090  37018.516667   \n",
       "1458 2021-06-01 09:00:00        36763.926        37089.220  36304.003333   \n",
       "1459 2021-06-01 12:00:00        35875.953        36193.914  36592.830000   \n",
       "1460 2021-06-01 15:00:00        36485.030        36800.094  36265.610000   \n",
       "\n",
       "      Actual (t+2)  \n",
       "0     19454.703333  \n",
       "1     19604.606667  \n",
       "2     18938.323333  \n",
       "3     19216.383333  \n",
       "4     18965.876667  \n",
       "...            ...  \n",
       "1456  37018.516667  \n",
       "1457  36304.003333  \n",
       "1458  36592.830000  \n",
       "1459  36265.610000  \n",
       "1460  36158.190000  \n",
       "\n",
       "[1461 rows x 5 columns]"
      ]
     },
     "execution_count": 56,
     "metadata": {},
     "output_type": "execute_result"
    }
   ],
   "source": [
    "#plot values\n",
    "dataplot = read_csv('Double BTC.csv', parse_dates=['time']) \n",
    "dataplot\n"
   ]
  },
  {
   "cell_type": "code",
   "execution_count": 57,
   "id": "characteristic-tobacco",
   "metadata": {},
   "outputs": [],
   "source": [
    "p1= dataplot['Predicted (t+1)']"
   ]
  },
  {
   "cell_type": "code",
   "execution_count": 58,
   "id": "first-wesley",
   "metadata": {},
   "outputs": [
    {
     "data": {
      "text/plain": [
       "0       19494.603333\n",
       "1       19454.703333\n",
       "2       19604.606667\n",
       "3       18938.323333\n",
       "4       19216.383333\n",
       "            ...     \n",
       "1456    36774.986667\n",
       "1457    37018.516667\n",
       "1458    36304.003333\n",
       "1459    36592.830000\n",
       "1460    36265.610000\n",
       "Name: Actual (t+1), Length: 1461, dtype: float64"
      ]
     },
     "execution_count": 58,
     "metadata": {},
     "output_type": "execute_result"
    }
   ],
   "source": [
    "a1= dataplot['Actual (t+1)']\n",
    "a1"
   ]
  },
  {
   "cell_type": "code",
   "execution_count": 59,
   "id": "toxic-uniform",
   "metadata": {},
   "outputs": [
    {
     "data": {
      "text/plain": [
       "<matplotlib.legend.Legend at 0x2471d2a9bb0>"
      ]
     },
     "execution_count": 59,
     "metadata": {},
     "output_type": "execute_result"
    },
    {
     "data": {
      "image/png": "[encoded data removed]",
      "text/plain": [
       "<Figure size 432x288 with 1 Axes>"
      ]
     },
     "metadata": {
      "needs_background": "light"
     },
     "output_type": "display_data"
    }
   ],
   "source": [
    "plt.plot(a1, color = 'red', label = 'Actual BTC Value(t+1)')\n",
    "plt.plot(p1, color = 'blue', label = 'Predicted BTC Value (t+1)') #[1:38]\n",
    "plt.title('Trend Prediction(t+1)')\n",
    "plt.xlabel('Time Interval (1 interval = 3 hours)')\n",
    "plt.ylabel('Price')\n",
    "plt.legend()"
   ]
  },
  {
   "cell_type": "code",
   "execution_count": 60,
   "id": "broadband-character",
   "metadata": {},
   "outputs": [
    {
     "data": {
      "text/plain": [
       "<matplotlib.legend.Legend at 0x2471d2d2700>"
      ]
     },
     "execution_count": 60,
     "metadata": {},
     "output_type": "execute_result"
    },
    {
     "data": {
      "image/png": "[encoded data removed]",
      "text/plain": [
       "<Figure size 432x288 with 1 Axes>"
      ]
     },
     "metadata": {
      "needs_background": "light"
     },
     "output_type": "display_data"
    }
   ],
   "source": [
    "p2= dataplot['Predicted (t+2)']\n",
    "a2= dataplot['Actual (t+2)']\n",
    "plt.plot(a2, color = 'red', label = 'Actual BTC Value(t+2)')\n",
    "plt.plot(p2, color = 'blue', label = 'Predicted BTC Value (t+2)') #[1:38]\n",
    "plt.title('Trend Prediction(t+2)')\n",
    "plt.xlabel('Time Interval (1 interval = 3 hours)')\n",
    "plt.ylabel('Price')\n",
    "plt.legend()\n",
    "\n"
   ]
  },
  {
   "cell_type": "code",
   "execution_count": 61,
   "id": "favorite-immune",
   "metadata": {},
   "outputs": [
    {
     "name": "stdout",
     "output_type": "stream",
     "text": [
      "Test MAE: 3461.905\n",
      "Test RMSE: 4657.348\n"
     ]
    }
   ],
   "source": [
    "#Calculating RMSE and MAE\n",
    "errorDF=concat([a1,p1], axis=1)\n",
    "errorDF.dropna(inplace=True)\n",
    "rmse = sqrt(mean_squared_error(errorDF.iloc[:,0], errorDF.iloc[:,1]))\n",
    "mae = mean_absolute_error(errorDF.iloc[:,0], errorDF.iloc[:,1])\n",
    "print('Test MAE: %.3f' % mae)\n",
    "print('Test RMSE: %.3f' % rmse)"
   ]
  },
  {
   "cell_type": "code",
   "execution_count": 62,
   "id": "increasing-mixture",
   "metadata": {},
   "outputs": [
    {
     "name": "stdout",
     "output_type": "stream",
     "text": [
      "Test MAE: 3848.533\n",
      "Test RMSE: 5145.089\n"
     ]
    }
   ],
   "source": [
    "errorDF=concat([a2,p2], axis=1)\n",
    "errorDF.dropna(inplace=True)\n",
    "rmse = sqrt(mean_squared_error(errorDF.iloc[:,0], errorDF.iloc[:,1]))\n",
    "mae = mean_absolute_error(errorDF.iloc[:,0], errorDF.iloc[:,1])\n",
    "print('Test MAE: %.3f' % mae)\n",
    "print('Test RMSE: %.3f' % rmse)"
   ]
  },
  {
   "cell_type": "code",
   "execution_count": null,
   "id": "viral-envelope",
   "metadata": {},
   "outputs": [],
   "source": []
  }
 ],
 "metadata": {
  "kernelspec": {
   "display_name": "Python 3",
   "language": "python",
   "name": "python3"
  },
  "language_info": {
   "codemirror_mode": {
    "name": "ipython",
    "version": 3
   },
   "file_extension": ".py",
   "mimetype": "text/x-python",
   "name": "python",
   "nbconvert_exporter": "python",
   "pygments_lexer": "ipython3",
   "version": "3.8.8"
  }
 },
 "nbformat": 4,
 "nbformat_minor": 5
}
