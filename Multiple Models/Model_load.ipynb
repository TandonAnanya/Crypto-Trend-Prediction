{
 "cells": [
  {
   "cell_type": "code",
   "execution_count": 1,
   "id": "subject-opening",
   "metadata": {},
   "outputs": [],
   "source": [
    "from pandas import DataFrame, read_csv, concat\n",
    "from keras.models import Sequential\n",
    "from keras.layers import Dense, Dropout, LSTM, Bidirectional, GRU,ConvLSTM2D, Flatten\n",
    "from matplotlib import pyplot as plt\n",
    "from numpy import concatenate, reshape, array\n",
    "from sklearn.metrics import mean_squared_error, mean_absolute_error\n",
    "from math import sqrt\n",
    "from sklearn.preprocessing import MinMaxScaler\n",
    "from sys import argv\n",
    "import csv\n",
    "import datetime\n",
    "import time\n",
    "import pickle\n",
    "from keras.models import model_from_json"
   ]
  },
  {
   "cell_type": "code",
   "execution_count": 2,
   "id": "suitable-neutral",
   "metadata": {},
   "outputs": [
    {
     "name": "stdout",
     "output_type": "stream",
     "text": [
      "Loaded model from disk\n"
     ]
    }
   ],
   "source": [
    "fileName = 'BCH' #asset name\n",
    "modelNumber = 4 #insert model number with best results\n",
    "json_file = open('models/{}/{}_{}_model.json'.format(fileName,fileName, modelNumber), 'r')\n",
    "loaded_model_json = json_file.read()\n",
    "json_file.close()\n",
    "loaded_model = model_from_json(loaded_model_json)\n",
    "# load weights into new model\n",
    "loaded_model.load_weights('models/{}/{}_{}_model.h5'.format(fileName,fileName, modelNumber))\n",
    "print(\"Loaded model from disk\")"
   ]
  },
  {
   "cell_type": "code",
   "execution_count": 3,
   "id": "established-australian",
   "metadata": {},
   "outputs": [],
   "source": [
    "# Series to Supervised Learning\n",
    "def series_to_supervised(data, n_in=1, n_out=1, dropnan=True):    \n",
    "    n_vars = 1 if type(data) is list else data.shape[1]\n",
    "    df = DataFrame(data)\n",
    "    cols, names = list(), list()\n",
    "    \n",
    "    # input sequence (t-n, ... t-1)\n",
    "    for i in range(n_in, 0, -1):\n",
    "    # print(\"I: \",i)\n",
    "        cols.append(df.shift(i))\n",
    "        # print(\"Column: \",cols)\n",
    "        names += [('var%d(t-%d)' % (j+1, i)) for j in range(n_vars)]\n",
    "        # print(\"Names: \",names)\n",
    "        \n",
    "    # forecast sequence (t, t+1, ... t+n)\n",
    "    for i in range(0, n_out):\n",
    "        cols.append(df.shift(-i))\n",
    "        # print(\"COls: \",cols)\n",
    "        if i == 0:\n",
    "            names += [('var%d(t)' % (j+1)) for j in range(n_vars)]\n",
    "        else:\n",
    "            names += [('var%d(t+%d)' % (j+1, i)) for j in range(n_vars)]\n",
    "        # print(\"Names: \",names)\n",
    "\n",
    "    # put it all together\n",
    "    agg = concat(cols, axis=1)\n",
    "    agg.columns = names\n",
    "    \n",
    "    # drop rows with NaN values\n",
    "    if dropnan:\n",
    "        agg.dropna(inplace=True)\n",
    "    \n",
    "    return agg"
   ]
  },
  {
   "cell_type": "code",
   "execution_count": 4,
   "id": "equal-somalia",
   "metadata": {},
   "outputs": [],
   "source": [
    "# Read Data and Extract Values\n",
    "# Read Data and Extract Values\n",
    "\n",
    "\n",
    "\n",
    " #write crypto name\n",
    "dataset = read_csv('final_datasets/'+fileName+'.csv', parse_dates=['time']) \n",
    "\n",
    "\n",
    "startIndex = 3  #start from 3rd column\n",
    "nrows = dataset.shape[0]\n",
    "values = dataset.iloc[:,startIndex:].values #Getting values - Total Sentiment and BTC Values\n",
    "valuesCrypto = dataset.iloc[:,-1:].values #Getting values -  C Values\n",
    "# For predicting with just Cryptocurrency values, we have just 1 input variable. \n",
    "# Incorporating sentiment values will make input variables=2\n",
    "\n",
    "# Comment the below line if there are multiple features / input variable.\n",
    "# values = values.reshape(-1,1) #Only do this if you have 1 input variable"
   ]
  },
  {
   "cell_type": "code",
   "execution_count": 5,
   "id": "independent-uruguay",
   "metadata": {},
   "outputs": [],
   "source": [
    "startDate_index =dataset.loc[dataset['time'] == '2020-12-01'].index[0] # use the date from which the testing data should start\n",
    "total_index= dataset.iloc[[-1]].index[0]\n",
    "train_percent=startDate_index/total_index"
   ]
  },
  {
   "cell_type": "code",
   "execution_count": 6,
   "id": "cordless-memorabilia",
   "metadata": {},
   "outputs": [],
   "source": [
    "# Scaling\n",
    "scaler = MinMaxScaler(feature_range = (0,1))\n",
    "scaler = scaler.fit(values)\n",
    "scaled = scaler.fit_transform(values)"
   ]
  },
  {
   "cell_type": "code",
   "execution_count": 7,
   "id": "extensive-insulin",
   "metadata": {},
   "outputs": [],
   "source": [
    "# Input and Output Sequence Length\n",
    "input_sequence = 1\n",
    "output_sequence = 1\n",
    "\n",
    "\n",
    "# Call Series to Supervised Function\n",
    "reframed = series_to_supervised(scaled, input_sequence, output_sequence)\n"
   ]
  },
  {
   "cell_type": "code",
   "execution_count": 8,
   "id": "athletic-fellow",
   "metadata": {},
   "outputs": [],
   "source": [
    "# Drop current sentiment/any other feature that might be added in the future(at time t)\n",
    "\n",
    "#The actual asset value should be the last column of the dataset for this to work\n",
    "dropColumns = []\n",
    "for i in range(values.shape[1]-1):\n",
    "    dropColumns.append('var{}(t)'.format(i+1))\n",
    "reframed=reframed.drop(columns=dropColumns) \n"
   ]
  },
  {
   "cell_type": "code",
   "execution_count": 9,
   "id": "mobile-heaven",
   "metadata": {},
   "outputs": [],
   "source": [
    "# Ignore the headers\n",
    "reframedValues = reframed.values"
   ]
  },
  {
   "cell_type": "code",
   "execution_count": 10,
   "id": "spanish-validation",
   "metadata": {},
   "outputs": [],
   "source": [
    "#Splitting data into train and test sets\n",
    "\n",
    "n_train_days = int(train_percent*nrows)\n",
    "train = reframedValues[:n_train_days, :]\n",
    "test = reframedValues[n_train_days:nrows, :]\n",
    "# valuesCrypto = reframed.iloc[:,-1:].values #Getting values -  C Values\n",
    "\n",
    "#Assigning inputs and output datasets\n",
    "train_X, train_y = train[:, :-1], train[:, -1]\n",
    "test_X, test_y = test[:, :-1], test[:, -1]\n",
    "\n",
    "#Reshaping input to be 3 dimensions (samples, timesteps, features)\n",
    "train_X = train_X.reshape((train_X.shape[0], 1, train_X.shape[1]))\n",
    "test_X = test_X.reshape((test_X.shape[0], 1, test_X.shape[1]))\n"
   ]
  },
  {
   "cell_type": "code",
   "execution_count": 11,
   "id": "marked-judges",
   "metadata": {},
   "outputs": [],
   "source": [
    "# Predicition using the loaded model\n",
    "\n",
    "model = loaded_model\n",
    "model_prediction = model.predict(test_X)"
   ]
  },
  {
   "cell_type": "code",
   "execution_count": 12,
   "id": "downtown-vietnamese",
   "metadata": {},
   "outputs": [],
   "source": [
    "# Inverse Scale\n",
    "scalerCrypto = MinMaxScaler(feature_range = (0,1))\n",
    "scalerCrypto = scaler.fit(valuesCrypto)\n",
    "scaledCrypto = scaler.fit_transform(valuesCrypto)\n",
    "\n",
    "\n",
    "model_prediction_unscale = scalerCrypto.inverse_transform(model_prediction)\n",
    "predictedValues = reshape(model_prediction_unscale, model_prediction_unscale.shape[0])\n",
    "\n",
    "actualValues = valuesCrypto[n_train_days+input_sequence:] #test_y+input_sequence:\n",
    "\n",
    "\n",
    "actualValues = reshape(actualValues, actualValues.shape[0])\n"
   ]
  },
  {
   "cell_type": "code",
   "execution_count": 13,
   "id": "bronze-viewer",
   "metadata": {},
   "outputs": [],
   "source": [
    "actual= DataFrame(actualValues, columns= ['Actual Value'])\n",
    "predicted=DataFrame(predictedValues, columns= ['Predicted Value'])"
   ]
  },
  {
   "cell_type": "code",
   "execution_count": 14,
   "id": "brief-watts",
   "metadata": {},
   "outputs": [
    {
     "name": "stdout",
     "output_type": "stream",
     "text": [
      "Test MAE: 35.169\n",
      "Test RMSE: 59.260\n"
     ]
    }
   ],
   "source": [
    "#Calculating RMSE and MAE\n",
    "errorDF=concat([actual,predicted], axis=1)\n",
    "errorDF.dropna(inplace=True)\n",
    "rmse = sqrt(mean_squared_error(errorDF.iloc[:,0], errorDF.iloc[:,1]))\n",
    "mae = mean_absolute_error(errorDF.iloc[:,0], errorDF.iloc[:,1])\n",
    "print('Test MAE: %.3f' % mae)\n",
    "print('Test RMSE: %.3f' % rmse)"
   ]
  },
  {
   "cell_type": "code",
   "execution_count": 17,
   "id": "premier-nudist",
   "metadata": {
    "scrolled": true
   },
   "outputs": [
    {
     "name": "stdout",
     "output_type": "stream",
     "text": [
      "Head:                   time  Actual Value  Predicted Value\n",
      "0 2020-12-01 00:00:00    313.143333       315.374603\n",
      "1 2020-12-01 03:00:00    312.760000       313.416107\n",
      "2 2020-12-01 06:00:00    314.240000       312.938843\n",
      "3 2020-12-01 09:00:00    294.016667       314.170715\n",
      "4 2020-12-01 12:00:00    300.600000       293.504730\n",
      "Tail:                      time  Actual Value  Predicted Value\n",
      "1458 2021-06-01 06:00:00    681.133333       643.092346\n",
      "1459 2021-06-01 09:00:00    686.973333       627.041870\n",
      "1460 2021-06-01 12:00:00    681.093333       643.883057\n",
      "1461 2021-06-01 15:00:00    681.350000       636.395569\n",
      "1462 2021-06-01 18:00:00           NaN              NaN\n"
     ]
    }
   ],
   "source": [
    "# Write to csv\n",
    "writeFileName = str(modelNumber)+ \"--Results.csv\"\n",
    "timestamp = DataFrame(dataset['time'][n_train_days:], columns= ['time'])\n",
    "timestamp.reset_index(drop=True, inplace=True)\n",
    "results=concat([timestamp,actual,predicted], axis=1)\n",
    "print(\"Head: \",results.head())\n",
    "print(\"Tail: \",results.tail())\n",
    "results.dropna(inplace=True)\n",
    "results.to_csv('Prediction Tables/'+fileName+writeFileName, index= False)"
   ]
  },
  {
   "cell_type": "code",
   "execution_count": null,
   "id": "marked-crash",
   "metadata": {},
   "outputs": [],
   "source": []
  }
 ],
 "metadata": {
  "kernelspec": {
   "display_name": "Python 3",
   "language": "python",
   "name": "python3"
  },
  "language_info": {
   "codemirror_mode": {
    "name": "ipython",
    "version": 3
   },
   "file_extension": ".py",
   "mimetype": "text/x-python",
   "name": "python",
   "nbconvert_exporter": "python",
   "pygments_lexer": "ipython3",
   "version": "3.8.8"
  }
 },
 "nbformat": 4,
 "nbformat_minor": 5
}
